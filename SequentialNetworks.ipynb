{
 "cells": [
  {
   "cell_type": "markdown",
   "id": "a7d31460-ab15-4b21-bd25-4ca838833d9a",
   "metadata": {},
   "source": [
    "# Danilo Montalvo\n",
    "## Lab Seven: Sequential Networks"
   ]
  },
  {
   "cell_type": "code",
   "execution_count": 107,
   "id": "e0923682-5088-4522-a7dd-3b6487d8ce9d",
   "metadata": {},
   "outputs": [
    {
     "name": "stdout",
     "output_type": "stream",
     "text": [
      "(1460, 81)\n",
      "   Id  MSSubClass MSZoning  LotFrontage  LotArea Street Alley LotShape  \\\n",
      "0   1          60       RL         65.0     8450   Pave   NaN      Reg   \n",
      "1   2          20       RL         80.0     9600   Pave   NaN      Reg   \n",
      "2   3          60       RL         68.0    11250   Pave   NaN      IR1   \n",
      "3   4          70       RL         60.0     9550   Pave   NaN      IR1   \n",
      "4   5          60       RL         84.0    14260   Pave   NaN      IR1   \n",
      "\n",
      "  LandContour Utilities  ... PoolArea PoolQC Fence MiscFeature MiscVal MoSold  \\\n",
      "0         Lvl    AllPub  ...        0    NaN   NaN         NaN       0      2   \n",
      "1         Lvl    AllPub  ...        0    NaN   NaN         NaN       0      5   \n",
      "2         Lvl    AllPub  ...        0    NaN   NaN         NaN       0      9   \n",
      "3         Lvl    AllPub  ...        0    NaN   NaN         NaN       0      2   \n",
      "4         Lvl    AllPub  ...        0    NaN   NaN         NaN       0     12   \n",
      "\n",
      "  YrSold  SaleType  SaleCondition  SalePrice  \n",
      "0   2008        WD         Normal     208500  \n",
      "1   2007        WD         Normal     181500  \n",
      "2   2008        WD         Normal     223500  \n",
      "3   2006        WD        Abnorml     140000  \n",
      "4   2008        WD         Normal     250000  \n",
      "\n",
      "[5 rows x 81 columns]\n",
      "(1459, 80)\n",
      "     Id  MSSubClass MSZoning  LotFrontage  LotArea Street Alley LotShape  \\\n",
      "0  1461          20       RH         80.0    11622   Pave   NaN      Reg   \n",
      "1  1462          20       RL         81.0    14267   Pave   NaN      IR1   \n",
      "2  1463          60       RL         74.0    13830   Pave   NaN      IR1   \n",
      "3  1464          60       RL         78.0     9978   Pave   NaN      IR1   \n",
      "4  1465         120       RL         43.0     5005   Pave   NaN      IR1   \n",
      "\n",
      "  LandContour Utilities  ... ScreenPorch PoolArea PoolQC  Fence MiscFeature  \\\n",
      "0         Lvl    AllPub  ...         120        0    NaN  MnPrv         NaN   \n",
      "1         Lvl    AllPub  ...           0        0    NaN    NaN        Gar2   \n",
      "2         Lvl    AllPub  ...           0        0    NaN  MnPrv         NaN   \n",
      "3         Lvl    AllPub  ...           0        0    NaN    NaN         NaN   \n",
      "4         HLS    AllPub  ...         144        0    NaN    NaN         NaN   \n",
      "\n",
      "  MiscVal MoSold  YrSold  SaleType  SaleCondition  \n",
      "0       0      6    2010        WD         Normal  \n",
      "1   12500      6    2010        WD         Normal  \n",
      "2       0      3    2010        WD         Normal  \n",
      "3       0      6    2010        WD         Normal  \n",
      "4       0      1    2010        WD         Normal  \n",
      "\n",
      "[5 rows x 80 columns]\n"
     ]
    }
   ],
   "source": [
    "import os\n",
    "os.environ['KMP_DUPLICATE_LIB_OK'] = 'True'\n",
    "\n",
    "import numpy as np\n",
    "import pandas as pd\n",
    "\n",
    "# Load the data\n",
    "train_data = pd.read_csv('/Users/danilomontalvo/Desktop/CNNHousing/house-prices-advanced-regression-techniques/train.csv')\n",
    "test_data = pd.read_csv('/Users/danilomontalvo/Desktop/CNNHousing/house-prices-advanced-regression-techniques/test.csv')\n",
    "\n",
    "# Check the shape and the first few rows of the training & test data\n",
    "print(train_data.shape)\n",
    "print(train_data.head())\n",
    "print(test_data.shape)\n",
    "print(test_data.head())\n"
   ]
  },
  {
   "cell_type": "code",
   "execution_count": 108,
   "id": "fbc48434-22fa-4834-833f-a20df9151465",
   "metadata": {},
   "outputs": [
    {
     "name": "stdout",
     "output_type": "stream",
     "text": [
      "Model: \"model_10\"\n",
      "__________________________________________________________________________________________________\n",
      " Layer (type)                   Output Shape         Param #     Connected to                     \n",
      "==================================================================================================\n",
      " input_11 (InputLayer)          [(None, 500)]        0           []                               \n",
      "                                                                                                  \n",
      " embedding_22 (Embedding)       (None, 500, 50)      50000       ['input_11[0][0]']               \n",
      "                                                                                                  \n",
      " conv1d_20 (Conv1D)             (None, 496, 64)      16064       ['embedding_22[0][0]']           \n",
      "                                                                                                  \n",
      " max_pooling1d_12 (MaxPooling1D  (None, 99, 64)      0           ['conv1d_20[0][0]']              \n",
      " )                                                                                                \n",
      "                                                                                                  \n",
      " dropout_46 (Dropout)           (None, 99, 64)       0           ['max_pooling1d_12[0][0]']       \n",
      "                                                                                                  \n",
      " conv1d_21 (Conv1D)             (None, 95, 64)       20544       ['dropout_46[0][0]']             \n",
      "                                                                                                  \n",
      " max_pooling1d_13 (MaxPooling1D  (None, 19, 64)      0           ['conv1d_21[0][0]']              \n",
      " )                                                                                                \n",
      "                                                                                                  \n",
      " dropout_47 (Dropout)           (None, 19, 64)       0           ['max_pooling1d_13[0][0]']       \n",
      "                                                                                                  \n",
      " conv1d_22 (Conv1D)             (None, 15, 64)       20544       ['dropout_47[0][0]']             \n",
      "                                                                                                  \n",
      " dropout_48 (Dropout)           (None, 15, 64)       0           ['conv1d_22[0][0]']              \n",
      "                                                                                                  \n",
      " global_average_pooling1d_16 (G  (None, 64)          0           ['dropout_48[0][0]']             \n",
      " lobalAveragePooling1D)                                                                           \n",
      "                                                                                                  \n",
      " subtract_6 (Subtract)          (None, 15, 64)       0           ['dropout_48[0][0]',             \n",
      "                                                                  'global_average_pooling1d_16[0][\n",
      "                                                                 0]']                             \n",
      "                                                                                                  \n",
      " tf.math.pow_6 (TFOpLambda)     (None, 15, 64)       0           ['subtract_6[0][0]']             \n",
      "                                                                                                  \n",
      " global_average_pooling1d_17 (G  (None, 64)          0           ['tf.math.pow_6[0][0]']          \n",
      " lobalAveragePooling1D)                                                                           \n",
      "                                                                                                  \n",
      " concat_1 (Concatenate)         (None, 128)          0           ['global_average_pooling1d_16[0][\n",
      "                                                                 0]',                             \n",
      "                                                                  'global_average_pooling1d_17[0][\n",
      "                                                                 0]']                             \n",
      "                                                                                                  \n",
      " dense_45 (Dense)               (None, 64)           8256        ['concat_1[0][0]']               \n",
      "                                                                                                  \n",
      " dropout_49 (Dropout)           (None, 64)           0           ['dense_45[0][0]']               \n",
      "                                                                                                  \n",
      " dense_46 (Dense)               (None, 1)            65          ['dropout_49[0][0]']             \n",
      "                                                                                                  \n",
      "==================================================================================================\n",
      "Total params: 115,473\n",
      "Trainable params: 115,473\n",
      "Non-trainable params: 0\n",
      "__________________________________________________________________________________________________\n",
      "None\n",
      "You must install pydot (`pip install pydot`) and install graphviz (see instructions at https://graphviz.gitlab.io/download/) for plot_model to work.\n"
     ]
    }
   ],
   "source": [
    "from tensorflow.keras.models import Model\n",
    "from tensorflow.keras.layers import Conv1D, MaxPooling1D, GlobalAveragePooling1D\n",
    "from tensorflow.keras.layers import Flatten, Dense, Dropout\n",
    "from tensorflow.keras.layers import Embedding, Input, Concatenate\n",
    "from tensorflow.keras.layers import Subtract\n",
    "from tensorflow.keras.utils import plot_model\n",
    "import tensorflow as tf\n",
    "\n",
    "EMBED_SIZE = 50\n",
    "\n",
    "# Define the input layer\n",
    "sequence_input = Input(shape=(X_train.shape[1],))\n",
    "\n",
    "# Embedding layer\n",
    "embedded_sequences = Embedding(input_dim=top_words,  # Using top_words as the input dimension\n",
    "                               output_dim=EMBED_SIZE,  # Set the output dimension\n",
    "                               input_length=max_review_length)(sequence_input)\n",
    "\n",
    "# Convolutional layers\n",
    "x = Conv1D(64, 5, activation='relu', kernel_initializer='he_uniform')(embedded_sequences)\n",
    "x = MaxPooling1D(5)(x)\n",
    "x = Dropout(0.2)(x)\n",
    "\n",
    "x = Conv1D(64, 5, activation='relu', kernel_initializer='he_uniform')(x)\n",
    "x = MaxPooling1D(5)(x)\n",
    "x = Dropout(0.2)(x)\n",
    "\n",
    "x = Conv1D(64, 5, activation='relu', kernel_initializer='he_uniform')(x)\n",
    "x = Dropout(0.2)(x)\n",
    "\n",
    "# Global average pooling\n",
    "x_mean = GlobalAveragePooling1D()(x)\n",
    "x_tmp = Subtract()([x, x_mean])\n",
    "x_std = GlobalAveragePooling1D()(x_tmp**2)\n",
    "\n",
    "# Concatenate the mean and standard deviation features\n",
    "x = Concatenate(name='concat_1')([x_mean, x_std])\n",
    "\n",
    "# Dense layers\n",
    "x = Dense(64, activation='relu', kernel_initializer='he_uniform')(x)\n",
    "x = Dropout(0.2)(x)\n",
    "\n",
    "# Output layer\n",
    "preds = Dense(NUM_CLASSES, activation='sigmoid', kernel_initializer='glorot_uniform')(x)\n",
    "\n",
    "# Define the model\n",
    "model = Model(sequence_input, preds)\n",
    "\n",
    "# Print model summary\n",
    "print(model.summary())\n",
    "\n",
    "# Plot the model architecture\n",
    "plot_model(\n",
    "    model, to_file='model.png', show_shapes=True, show_layer_names=True,\n",
    "    rankdir='LR', expand_nested=False, dpi=96\n",
    ")\n"
   ]
  },
  {
   "cell_type": "code",
   "execution_count": 109,
   "id": "9fe03283-b7d5-4dd8-abad-4a6f4c2b8c3b",
   "metadata": {},
   "outputs": [],
   "source": [
    "from tensorflow.keras.optimizers import Adam\n",
    "from tensorflow.keras.optimizers.schedules import ExponentialDecay\n",
    "\n",
    "lr_schedule = ExponentialDecay(\n",
    "    initial_learning_rate=0.001,\n",
    "    decay_steps=10000,\n",
    "    decay_rate=0.95,\n",
    "    staircase=True\n",
    ")\n",
    "\n",
    "opt = Adam(learning_rate=lr_schedule, epsilon=0.0001)\n",
    "model.compile(loss='binary_crossentropy',\n",
    "              optimizer=opt,\n",
    "              metrics=['accuracy'])\n"
   ]
  },
  {
   "cell_type": "code",
   "execution_count": 110,
   "id": "ba526633-bb8f-4754-af46-349172b277a1",
   "metadata": {},
   "outputs": [
    {
     "name": "stdout",
     "output_type": "stream",
     "text": [
      "Epoch 1/5\n",
      "391/391 [==============================] - 33s 82ms/step - loss: 0.6214 - accuracy: 0.6154 - val_loss: 0.4205 - val_accuracy: 0.8103\n",
      "Epoch 2/5\n",
      "391/391 [==============================] - 33s 85ms/step - loss: 0.3612 - accuracy: 0.8465 - val_loss: 0.3487 - val_accuracy: 0.8468\n",
      "Epoch 3/5\n",
      "391/391 [==============================] - 32s 83ms/step - loss: 0.3085 - accuracy: 0.8703 - val_loss: 0.3051 - val_accuracy: 0.8702\n",
      "Epoch 4/5\n",
      "391/391 [==============================] - 34s 88ms/step - loss: 0.2786 - accuracy: 0.8852 - val_loss: 0.2937 - val_accuracy: 0.8765\n",
      "Epoch 5/5\n",
      "391/391 [==============================] - 33s 83ms/step - loss: 0.2454 - accuracy: 0.9007 - val_loss: 0.3039 - val_accuracy: 0.8710\n",
      "CPU times: user 6min 46s, sys: 4min 35s, total: 11min 22s\n",
      "Wall time: 2min 45s\n"
     ]
    }
   ],
   "source": [
    "%%time \n",
    "\n",
    "history = []\n",
    "tmp = model.fit(X_train, y_train, epochs=5, \n",
    "                batch_size=64, \n",
    "                validation_data=(X_test, y_test))\n",
    "history.append( tmp )\n"
   ]
  },
  {
   "cell_type": "code",
   "execution_count": 111,
   "id": "1ac67160-7cce-496e-a14a-3e4dc1323913",
   "metadata": {},
   "outputs": [
    {
     "name": "stdout",
     "output_type": "stream",
     "text": [
      "Epoch 1/5\n",
      "391/391 [==============================] - 33s 84ms/step - loss: 0.2161 - accuracy: 0.9134 - val_loss: 0.2928 - val_accuracy: 0.8755\n",
      "Epoch 2/5\n",
      "391/391 [==============================] - 35s 89ms/step - loss: 0.1809 - accuracy: 0.9293 - val_loss: 0.3191 - val_accuracy: 0.8715\n",
      "Epoch 3/5\n",
      "391/391 [==============================] - 33s 84ms/step - loss: 0.1472 - accuracy: 0.9435 - val_loss: 0.3393 - val_accuracy: 0.8722\n",
      "Epoch 4/5\n",
      "391/391 [==============================] - 32s 82ms/step - loss: 0.1201 - accuracy: 0.9545 - val_loss: 0.3596 - val_accuracy: 0.8683\n",
      "Epoch 5/5\n",
      "391/391 [==============================] - 30s 77ms/step - loss: 0.0980 - accuracy: 0.9630 - val_loss: 0.4055 - val_accuracy: 0.8672\n"
     ]
    }
   ],
   "source": [
    "\n",
    "# run this as many times as we want! Adds 5 epochs each time\n",
    "tmp = model.fit(X_train, y_train, epochs=5, \n",
    "                batch_size=64, \n",
    "                validation_data=(X_test, y_test))\n",
    "history.append( tmp )"
   ]
  },
  {
   "cell_type": "code",
   "execution_count": 112,
   "id": "a8db15c8-5eec-4d83-b53a-39d5085f747e",
   "metadata": {},
   "outputs": [
    {
     "data": {
      "image/png": "[encoded data removed]",
      "text/plain": [
       "<Figure size 1000x500 with 1 Axes>"
      ]
     },
     "metadata": {},
     "output_type": "display_data"
    }
   ],
   "source": [
    "from sklearn import metrics as mt\n",
    "from matplotlib import pyplot as plt\n",
    "%matplotlib inline\n",
    "\n",
    "# combine all the history from training together\n",
    "combined = dict()\n",
    "for key in ['loss','val_loss']:\n",
    "    combined[key] = np.hstack([x.history[key] for x in history])\n",
    "    \n",
    "# summarize history for loss\n",
    "plt.figure(figsize=(10,5))\n",
    "plt.plot(combined['loss'])\n",
    "plt.plot(combined['val_loss'])\n",
    "plt.title('Model Loss')\n",
    "plt.ylabel('Loss')\n",
    "plt.xlabel('Epoch')\n",
    "plt.legend(['Train', 'Test'], loc='upper left')\n",
    "plt.show()\n"
   ]
  },
  {
   "cell_type": "markdown",
   "id": "872aa77a-c4d6-46c9-8ac7-e45b4671207f",
   "metadata": {},
   "source": [
    "\n",
    "## Tranformers"
   ]
  },
  {
   "cell_type": "code",
   "execution_count": 113,
   "id": "36935b93-86c4-4f94-a9b2-a489dd9fad4c",
   "metadata": {},
   "outputs": [],
   "source": [
    "from tensorflow.keras.layers import MultiHeadAttention, LayerNormalization\n",
    "from tensorflow.keras import Sequential\n",
    "from tensorflow.keras.layers import Layer\n",
    "\n",
    "# The transformer architecture \n",
    "class TransformerBlock(Layer): # inherit from Keras Layer\n",
    "    def __init__(self, embed_dim, num_heads, ff_dim, rate=0.2):\n",
    "        super().__init__()\n",
    "        # setup the model heads and feedforward network\n",
    "        self.att = MultiHeadAttention(num_heads=num_heads, \n",
    "                                      key_dim=embed_dim)\n",
    "        \n",
    "        # make a two layer network that processes the attention\n",
    "        self.ffn = Sequential()\n",
    "        self.ffn.add( Dense(ff_dim, activation='relu') )\n",
    "        self.ffn.add( Dense(embed_dim) )\n",
    "        \n",
    "        self.layernorm1 = LayerNormalization(epsilon=1e-6)\n",
    "        self.layernorm2 = LayerNormalization(epsilon=1e-6)\n",
    "        self.dropout1 = Dropout(rate)\n",
    "        self.dropout2 = Dropout(rate)\n",
    "\n",
    "    def call(self, inputs, training):\n",
    "\n",
    "        attn_output = self.att(inputs, inputs)\n",
    "        \n",
    "        # create residual output, with attention\n",
    "        out1 = self.layernorm1(inputs + attn_output)\n",
    "        \n",
    "        # apply dropout if training\n",
    "        out1 = self.dropout1(out1, training=training)\n",
    "        \n",
    "        # place through feed forward after layer norm\n",
    "        ffn_output = self.ffn(out1)\n",
    "        out2 = self.layernorm2(out1 + ffn_output)\n",
    "        \n",
    "        # apply dropout if training\n",
    "        out2 = self.dropout2(out2, training=training)\n",
    "        #return the residual from Dense layer\n",
    "        return out2\n",
    "    \n",
    "class TokenAndPositionEmbedding(Layer):\n",
    "    def __init__(self, maxlen, vocab_size, embed_dim):\n",
    "        super().__init__()\n",
    "        # create two embeddings \n",
    "        self.token_emb = Embedding(input_dim=vocab_size, \n",
    "                                   output_dim=embed_dim)\n",
    "\n",
    "        self.pos_emb = Embedding(input_dim=maxlen, \n",
    "                                 output_dim=embed_dim)\n",
    "\n",
    "    def call(self, x):\n",
    "        maxlen = tf.shape(x)[-1]\n",
    "        positions = tf.range(start=0, limit=maxlen, delta=1)\n",
    "        positions = self.pos_emb(positions)\n",
    "        x = self.token_emb(x) \n",
    "        return x + positions \n"
   ]
  },
  {
   "cell_type": "code",
   "execution_count": 114,
   "id": "092efb34-713b-4ef4-b386-49cc23932ef5",
   "metadata": {},
   "outputs": [
    {
     "name": "stdout",
     "output_type": "stream",
     "text": [
      "Model: \"model_11\"\n",
      "_________________________________________________________________\n",
      " Layer (type)                Output Shape              Param #   \n",
      "=================================================================\n",
      " input_12 (InputLayer)       [(None, 500)]             0         \n",
      "                                                                 \n",
      " token_and_position_embeddin  (None, 500, 32)          48000     \n",
      " g_4 (TokenAndPositionEmbedd                                     \n",
      " ing)                                                            \n",
      "                                                                 \n",
      " transformer_block_4 (Transf  (None, 500, 32)          10656     \n",
      " ormerBlock)                                                     \n",
      "                                                                 \n",
      " global_average_pooling1d_18  (None, 32)               0         \n",
      "  (GlobalAveragePooling1D)                                       \n",
      "                                                                 \n",
      " dropout_52 (Dropout)        (None, 32)                0         \n",
      "                                                                 \n",
      " dense_49 (Dense)            (None, 20)                660       \n",
      "                                                                 \n",
      " dropout_53 (Dropout)        (None, 20)                0         \n",
      "                                                                 \n",
      " dense_50 (Dense)            (None, 1)                 21        \n",
      "                                                                 \n",
      "=================================================================\n",
      "Total params: 59,337\n",
      "Trainable params: 59,337\n",
      "Non-trainable params: 0\n",
      "_________________________________________________________________\n",
      "None\n"
     ]
    }
   ],
   "source": [
    "\n",
    "embed_dim = 32  # Embedding size for each token\n",
    "num_heads = 2  # Number of attention heads\n",
    "ff_dim = 32  # Hidden layer size in feed forward network inside transformer\n",
    "\n",
    "inputs = Input(shape=(X_train.shape[1],))\n",
    "x = TokenAndPositionEmbedding(X_train.shape[1], top_words, embed_dim)(inputs) # Adjust vocab_size and maxlen according to your dataset\n",
    "x = TransformerBlock(embed_dim, num_heads, ff_dim)(x)\n",
    "\n",
    "x = GlobalAveragePooling1D()(x)\n",
    "x = Dropout(0.2)(x)\n",
    "x = Dense(20, activation='relu')(x)\n",
    "x = Dropout(0.2)(x)\n",
    "outputs = Dense(NUM_CLASSES, activation='sigmoid',\n",
    "              kernel_initializer='glorot_uniform')(x)\n",
    "\n",
    "model_xformer = Model(inputs=inputs, outputs=outputs)\n",
    "print(model_xformer.summary())\n"
   ]
  },
  {
   "cell_type": "code",
   "execution_count": 115,
   "id": "5193a0d8-e250-4ec4-9715-9b663bf0b671",
   "metadata": {},
   "outputs": [
    {
     "name": "stdout",
     "output_type": "stream",
     "text": [
      "Epoch 1/2\n",
      "391/391 [==============================] - 370s 940ms/step - loss: 0.5647 - accuracy: 0.6683 - val_loss: 0.3848 - val_accuracy: 0.8319\n",
      "Epoch 2/2\n",
      "391/391 [==============================] - 368s 941ms/step - loss: 0.3281 - accuracy: 0.8645 - val_loss: 0.3153 - val_accuracy: 0.8691\n"
     ]
    }
   ],
   "source": [
    "model_xformer.compile(optimizer='adam', \n",
    "                      loss='binary_crossentropy', \n",
    "                      metrics=['accuracy'])\n",
    "\n",
    "history = model_xformer.fit(\n",
    "    X_train, y_train, batch_size=64, epochs=2, \n",
    "    validation_data=(X_test, y_test)\n",
    ")\n"
   ]
  },
  {
   "cell_type": "code",
   "execution_count": 116,
   "id": "3e338de1-5aeb-44dc-a948-5f9ac5975153",
   "metadata": {},
   "outputs": [
    {
     "name": "stdout",
     "output_type": "stream",
     "text": [
      "782/782 [==============================] - 5s 6ms/step\n",
      "782/782 [==============================] - 121s 155ms/step\n"
     ]
    },
    {
     "data": {
      "image/png": "[encoded data removed]",
      "text/plain": [
       "<Figure size 640x480 with 1 Axes>"
      ]
     },
     "metadata": {},
     "output_type": "display_data"
    }
   ],
   "source": [
    "yhat_cnn = model.predict(X_test)\n",
    "yhat_xformer = model_xformer.predict(X_test)\n",
    "\n",
    "acc = [mt.accuracy_score(y_test.round(), yhat_cnn.round()),\n",
    "       mt.accuracy_score(y_test.round(), yhat_xformer.round())]\n",
    "\n",
    "plt.bar([1, 2], acc)\n",
    "plt.xticks([1, 2], ['CNN', 'XFORMER'])\n",
    "plt.show()\n"
   ]
  },
  {
   "cell_type": "markdown",
   "id": "413133ff-922a-4219-b639-03b63be293e0",
   "metadata": {},
   "source": [
    " ## compiling and training the Transformer model"
   ]
  },
  {
   "cell_type": "code",
   "execution_count": 119,
   "id": "a32ff0dd-f776-4242-8851-acc352983fb0",
   "metadata": {},
   "outputs": [
    {
     "name": "stdout",
     "output_type": "stream",
     "text": [
      "Epoch 1/2\n",
      "391/391 [==============================] - 371s 944ms/step - loss: 0.3141 - accuracy: 0.8706 - val_loss: 0.3119 - val_accuracy: 0.8668\n",
      "Epoch 2/2\n",
      "391/391 [==============================] - 345s 884ms/step - loss: 0.3008 - accuracy: 0.8768 - val_loss: 0.3073 - val_accuracy: 0.8688\n"
     ]
    }
   ],
   "source": [
    "model_xformer.compile(optimizer='adam', \n",
    "                      loss='binary_crossentropy', \n",
    "                      metrics=['accuracy'])\n",
    "\n",
    "history = model_xformer.fit(\n",
    "    X_train, y_train, batch_size=64, epochs=2, \n",
    "    validation_data=(X_test, y_test)\n",
    ")\n"
   ]
  },
  {
   "cell_type": "markdown",
   "id": "b24269a4-384c-4186-ad6f-73567ac87c87",
   "metadata": {},
   "source": [
    "## comparing performance"
   ]
  },
  {
   "cell_type": "code",
   "execution_count": 120,
   "id": "faa0cbfb-ea1b-4c30-8199-fe8ae76a9e9f",
   "metadata": {},
   "outputs": [
    {
     "name": "stdout",
     "output_type": "stream",
     "text": [
      "782/782 [==============================] - 5s 7ms/step\n",
      "782/782 [==============================] - 120s 153ms/step\n"
     ]
    },
    {
     "data": {
      "image/png": "[encoded data removed]",
      "text/plain": [
       "<Figure size 640x480 with 1 Axes>"
      ]
     },
     "metadata": {},
     "output_type": "display_data"
    }
   ],
   "source": [
    "yhat_cnn = model.predict(X_test)\n",
    "yhat_xformer = model_xformer.predict(X_test)\n",
    "\n",
    "acc = [mt.accuracy_score(y_test.round(), yhat_cnn.round()),\n",
    "       mt.accuracy_score(y_test.round(), yhat_xformer.round())]\n",
    "\n",
    "plt.bar([1, 2], acc)\n",
    "plt.xticks([1, 2], ['CNN', 'XFORMER'])\n",
    "plt.show()\n"
   ]
  },
  {
   "cell_type": "code",
   "execution_count": null,
   "id": "0122a18a-260b-41eb-ac88-84187ea1cf82",
   "metadata": {},
   "outputs": [],
   "source": []
  }
 ],
 "metadata": {
  "kernelspec": {
   "display_name": "Python 3 (ipykernel)",
   "language": "python",
   "name": "python3"
  },
  "language_info": {
   "codemirror_mode": {
    "name": "ipython",
    "version": 3
   },
   "file_extension": ".py",
   "mimetype": "text/x-python",
   "name": "python",
   "nbconvert_exporter": "python",
   "pygments_lexer": "ipython3",
   "version": "3.8.8"
  }
 },
 "nbformat": 4,
 "nbformat_minor": 5
}
